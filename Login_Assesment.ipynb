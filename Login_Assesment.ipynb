{
 "cells": [
  {
   "cell_type": "markdown",
   "id": "6efb053b",
   "metadata": {},
   "source": [
    "# Imports"
   ]
  },
  {
   "cell_type": "code",
   "execution_count": 1,
   "id": "0fa074d3",
   "metadata": {},
   "outputs": [],
   "source": [
    "import re"
   ]
  },
  {
   "cell_type": "markdown",
   "id": "42ce56ea",
   "metadata": {},
   "source": [
    "# Password Validation"
   ]
  },
  {
   "cell_type": "code",
   "execution_count": 2,
   "id": "18ec7589",
   "metadata": {},
   "outputs": [],
   "source": [
    "def check_pass(passwd):\n",
    "    reg = \"^(?=.*[a-z])(?=.*[A-Z])(?=.*\\d)(?=.*[@$!%*#?&])[A-Za-z\\d@$!#%*?&]{6,20}$\"\n",
    "    pat = re.compile(reg)\n",
    "    mat = re.search(pat, passwd)\n",
    "\n",
    "    if mat:\n",
    "        return \"valid\"\n",
    "    else:\n",
    "        print(\"Re-enter a new password.\")"
   ]
  },
  {
   "cell_type": "markdown",
   "id": "0138d7d0",
   "metadata": {},
   "source": [
    "# E-mail Validation"
   ]
  },
  {
   "cell_type": "code",
   "execution_count": 3,
   "id": "a346ee7e",
   "metadata": {},
   "outputs": [],
   "source": [
    "def check_userid(email):\n",
    "   regex = re.compile(r'([A-Za-z0-9]+[.-_])*[A-Za-z0-9]+@[A-Za-z0-9-]+(\\.[A-Z|a-z]{2,})+')\n",
    "   if(re.fullmatch(regex, email)):\n",
    "        return \"valid\"\n",
    "   else:\n",
    "      print(\"Invalid Email\")"
   ]
  },
  {
   "cell_type": "markdown",
   "id": "1f1d1674",
   "metadata": {},
   "source": [
    "# Start of main function program"
   ]
  },
  {
   "cell_type": "code",
   "execution_count": 4,
   "id": "37e523d9",
   "metadata": {},
   "outputs": [],
   "source": [
    "def choose():\n",
    "   choise = int(input(\"Press 1 for Signup \\nPress 2 for Signin \\nPess 3 for Forgot Password\\n\"))\n",
    "   if choise == 1:\n",
    "      return register()\n",
    "   elif choise == 2:\n",
    "      return Signing_In()\n",
    "   elif choise == 3:\n",
    "      return Forget_Password()   \n",
    "   else:\n",
    "      return \"\\nPlease re-enter your choise correctly\""
   ]
  },
  {
   "cell_type": "markdown",
   "id": "a046e1be",
   "metadata": {},
   "source": [
    "# For Sign Up"
   ]
  },
  {
   "cell_type": "code",
   "execution_count": 5,
   "id": "dd608051",
   "metadata": {},
   "outputs": [],
   "source": [
    "def register():\n",
    "\n",
    "   print(\"\\nEnter the following details: \")\n",
    "   \n",
    "   name = input(\"\\nName: \")\n",
    "   email = input(\"\\nUser ID: \")\n",
    "   pwd = input(\"\\nPassword: \")\n",
    "   \n",
    "   if(check_userid(email) == \"valid\" and check_pass(pwd) == \"valid\"):\n",
    "   \n",
    "      file = open(\"User_Data.txt\",'r')\n",
    "      info = file.read()\n",
    "      \n",
    "      if name in info:\n",
    "         return \"Name Unavailable. Please Try Again\"\n",
    "      file.close()\n",
    "      \n",
    "      file = open(\"User_Data.txt\",'a')\n",
    "      info = \"\\n\" + name + \" \" + email + \" \" + pwd\n",
    "      file.write(info)\n",
    "      file.close()\n",
    "\n",
    "      return \"Registration Successful\" \n"
   ]
  },
  {
   "cell_type": "markdown",
   "id": "35c01f05",
   "metadata": {},
   "source": [
    "# For Sign In"
   ]
  },
  {
   "cell_type": "code",
   "execution_count": 6,
   "id": "cba92767",
   "metadata": {},
   "outputs": [],
   "source": [
    "def Signing_In():\n",
    "   \n",
    "   print(\"\\nEnter the following details: \")\n",
    "   \n",
    "   name = input(\"\\nName: \")\n",
    "   email = input(\"\\nUser ID: \")\n",
    "   pwd = input(\"\\nPassword: \")\n",
    "    \n",
    "   file = open(\"User_Data.txt\",'r')\n",
    "   info = file.read()\n",
    "   info = info.split()\n",
    "   \n",
    "   if name in info:\n",
    "      \n",
    "      index = info.index(name) + 1\n",
    "      usr_password = info[index]  \n",
    "\n",
    "      if usr_password == pwd:\n",
    "         return \"Welcome Back, \" + name\n",
    "\n",
    "      else :\n",
    "         return \"Wrong email or password.\"\n",
    "          \n",
    "   else:\n",
    "      return \"New User. Please Register First.\""
   ]
  },
  {
   "cell_type": "markdown",
   "id": "ad86fa3a",
   "metadata": {},
   "source": [
    "# For forget Password"
   ]
  },
  {
   "cell_type": "code",
   "execution_count": 7,
   "id": "f0ade8f3",
   "metadata": {},
   "outputs": [
    {
     "name": "stdout",
     "output_type": "stream",
     "text": [
      "Press 1 for Signup \n",
      "Press 2 for Signin \n",
      "Pess 3 for Forgot Password\n",
      "1\n",
      "\n",
      "Enter the following details: \n",
      "\n",
      "Name: Raghuram\n",
      "\n",
      "User ID: raghu@gmail.com\n",
      "\n",
      "Password: qwerty\n",
      "Re-enter a new password.\n",
      "None\n"
     ]
    }
   ],
   "source": [
    "def Forget_Password():\n",
    "   print(\"\\nEnter the following details: \")\n",
    "   \n",
    "   name = input(\"\\nName: \")\n",
    "   email = input(\"\\nUser ID: \")\n",
    "   \n",
    "   for line in open(\"User_Data.txt\",\"r\").readlines(): \n",
    "        login_info = line.split()\n",
    "        if name == login_info[0] and email == login_info[1]:\n",
    "            pwd = login_info[2]\n",
    "            return \"Your password is \" + pwd\n",
    "      #else:\n",
    "      \n",
    "         #return \"Password entered is wrong\"\n",
    "   else:\n",
    "   \n",
    "      return \"New User. Please Register First.\"\n",
    "\n",
    "print(choose())"
   ]
  },
  {
   "cell_type": "code",
   "execution_count": null,
   "id": "e9c50678",
   "metadata": {},
   "outputs": [],
   "source": []
  },
  {
   "cell_type": "code",
   "execution_count": null,
   "id": "ca7ca43c",
   "metadata": {},
   "outputs": [],
   "source": []
  },
  {
   "cell_type": "code",
   "execution_count": null,
   "id": "3c10c54c",
   "metadata": {},
   "outputs": [],
   "source": []
  },
  {
   "cell_type": "code",
   "execution_count": null,
   "id": "1ee7d2fb",
   "metadata": {},
   "outputs": [],
   "source": []
  }
 ],
 "metadata": {
  "kernelspec": {
   "display_name": "Python 3 (ipykernel)",
   "language": "python",
   "name": "python3"
  },
  "language_info": {
   "codemirror_mode": {
    "name": "ipython",
    "version": 3
   },
   "file_extension": ".py",
   "mimetype": "text/x-python",
   "name": "python",
   "nbconvert_exporter": "python",
   "pygments_lexer": "ipython3",
   "version": "3.9.7"
  }
 },
 "nbformat": 4,
 "nbformat_minor": 5
}
